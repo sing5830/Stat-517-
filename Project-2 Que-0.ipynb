{
 "cells": [
  {
   "cell_type": "markdown",
   "metadata": {},
   "source": [
    "# Question 0: Predicting Salary"
   ]
  },
  {
   "cell_type": "code",
   "execution_count": 1,
   "metadata": {},
   "outputs": [],
   "source": [
    "import pandas as pd\n",
    "import matplotlib.pyplot as plt\n",
    "import numpy as np\n",
    "import scipy as sp\n",
    "import string\n",
    "import time\n",
    "timestamp = str(time.time())"
   ]
  },
  {
   "cell_type": "code",
   "execution_count": 2,
   "metadata": {},
   "outputs": [
    {
     "name": "stdout",
     "output_type": "stream",
     "text": [
      "(10000, 12)\n"
     ]
    }
   ],
   "source": [
    "# read file\n",
    "\n",
    "data_file = pd.read_csv(\"http://www.webpages.uidaho.edu/~stevel/Datasets/salary_uk.csv\")\n",
    "print (data_file.shape)\n",
    "# salary"
   ]
  },
  {
   "cell_type": "markdown",
   "metadata": {},
   "source": [
    "## Preprocessing"
   ]
  },
  {
   "cell_type": "code",
   "execution_count": 3,
   "metadata": {},
   "outputs": [],
   "source": [
    "salary = data_file\n",
    "\n",
    "# dropped columns that are not useful\n",
    "salary = salary.drop(['LocationRaw', 'SalaryRaw', 'SourceName'], axis=1)\n",
    "\n",
    "# made all words lower\n",
    "salary['Title'] = salary['Title'].str.lower()\n",
    "salary['FullDescription'] = salary['FullDescription'].str.lower()\n",
    "salary['LocationNormalized'] = salary['LocationNormalized'].str.lower()\n",
    "salary['ContractType'] = salary['ContractType'].str.lower()\n",
    "salary['ContractTime'] = salary['ContractTime'].str.lower()\n",
    "salary['Company'] = salary['Company'].str.lower()\n",
    "salary['Category'] = salary['Category'].str.lower()\n",
    "\n",
    "# removed leading or trailing white space\n",
    "salary['Title'] = salary['Title'].str.strip()\n",
    "salary['FullDescription'] = salary['FullDescription'].str.strip()\n",
    "salary['LocationNormalized'] = salary['LocationNormalized'].str.strip()\n",
    "salary['ContractType'] = salary['ContractType'].str.strip()\n",
    "salary['ContractTime'] = salary['ContractTime'].str.strip()\n",
    "salary['Company'] = salary['Company'].str.strip()\n",
    "salary['Category'] = salary['Category'].str.strip()"
   ]
  },
  {
   "cell_type": "code",
   "execution_count": 4,
   "metadata": {},
   "outputs": [],
   "source": [
    "# replaced missing data with dummy entries\n",
    "salary['Title'].fillna(value = 'Title_Missing', inplace=True)\n",
    "salary['ContractType'].fillna(value = 'ContractType_Missing', inplace=True)\n",
    "salary['ContractTime'].fillna(value = 'ContractTime_Missing', inplace=True)\n",
    "salary['Company'].fillna(value = 'Company_Missing', inplace=True)"
   ]
  },
  {
   "cell_type": "code",
   "execution_count": 5,
   "metadata": {},
   "outputs": [],
   "source": [
    "# vectorized categorical features using one hot encoding\n",
    "salary = pd.get_dummies(salary, columns=['LocationNormalized', 'ContractTime', 'ContractType', 'Category'])"
   ]
  },
  {
   "cell_type": "code",
   "execution_count": 6,
   "metadata": {},
   "outputs": [],
   "source": [
    "# vectorized non-categorical string features using TD-IDF\n",
    "from sklearn.feature_extraction.text import TfidfVectorizer\n",
    "vect = TfidfVectorizer(stop_words='english', max_features=10000)\n",
    "# dropped full description and added vectorized description\n",
    "salary = pd.concat([salary, pd.DataFrame(vect.fit_transform(salary.Title).toarray(), columns=vect.get_feature_names()), pd.DataFrame(vect.fit_transform(salary.FullDescription).toarray(), columns=vect.get_feature_names()), pd.DataFrame(vect.fit_transform(salary.Company).toarray(), columns=vect.get_feature_names())],axis=1)\n",
    "salary = salary.drop(['Title', 'FullDescription', 'Company'],axis=1)"
   ]
  },
  {
   "cell_type": "code",
   "execution_count": 7,
   "metadata": {},
   "outputs": [
    {
     "name": "stdout",
     "output_type": "stream",
     "text": [
      "(10000, 16050)\n"
     ]
    }
   ],
   "source": [
    "print (salary.shape)"
   ]
  },
  {
   "cell_type": "markdown",
   "metadata": {},
   "source": [
    "## Split Dataset Into Training and Testing"
   ]
  },
  {
   "cell_type": "code",
   "execution_count": 8,
   "metadata": {},
   "outputs": [],
   "source": [
    "from sklearn.model_selection import train_test_split\n",
    "X = salary.drop('SalaryNormalized', axis=1)\n",
    "Y= salary.SalaryNormalized\n",
    "from sklearn.decomposition import PCA\n",
    "pca = PCA(n_components=1000)\n",
    "pca.fit(X)\n",
    "X = pca.transform(X)\n",
    "X_train, X_test, y_train, y_test = train_test_split(X, Y, test_size=0.3)\n",
    "train_scores = {}\n",
    "test_scores = {}"
   ]
  },
  {
   "cell_type": "markdown",
   "metadata": {},
   "source": [
    "## Linear Regression"
   ]
  },
  {
   "cell_type": "code",
   "execution_count": 9,
   "metadata": {},
   "outputs": [
    {
     "name": "stdout",
     "output_type": "stream",
     "text": [
      "Linear regression training set score:  0.6987953031553861\n",
      "Linear regression testing set score:  0.6097625443358663\n"
     ]
    }
   ],
   "source": [
    "from sklearn.linear_model import LinearRegression\n",
    "lr = LinearRegression()\n",
    "lr.fit(X_train, y_train)\n",
    "train_scores['linear'] = lr.score(X_train, y_train)\n",
    "test_scores['linear'] = lr.score(X_test, y_test)\n",
    "print('Linear regression training set score: ', train_scores['linear'])\n",
    "print('Linear regression testing set score: ', test_scores['linear'])"
   ]
  },
  {
   "cell_type": "markdown",
   "metadata": {},
   "source": [
    "## Ridge Regression"
   ]
  },
  {
   "cell_type": "code",
   "execution_count": 10,
   "metadata": {},
   "outputs": [
    {
     "name": "stdout",
     "output_type": "stream",
     "text": [
      "Ridge Regression training set score:  0.6964045589872981\n",
      "Ridge Regression testing set score:  0.6200794055218732\n"
     ]
    },
    {
     "name": "stderr",
     "output_type": "stream",
     "text": [
      "C:\\Users\\Adhar Pratap Singh\\Anaconda3\\lib\\site-packages\\sklearn\\linear_model\\ridge.py:125: LinAlgWarning: scipy.linalg.solve\n",
      "Ill-conditioned matrix detected. Result is not guaranteed to be accurate.\n",
      "Reciprocal condition number2.614735e-18\n",
      "  overwrite_a=True).T\n"
     ]
    }
   ],
   "source": [
    "from sklearn.linear_model import Ridge\n",
    "\n",
    "ridge = Ridge().fit(X_train, y_train)\n",
    "train_scores['ridge'] = ridge.score(X_train, y_train)\n",
    "test_scores['ridge'] = ridge.score(X_test, y_test)\n",
    "print('Ridge Regression training set score: ', train_scores['ridge'])\n",
    "print('Ridge Regression testing set score: ', test_scores['ridge'])"
   ]
  },
  {
   "cell_type": "markdown",
   "metadata": {},
   "source": [
    "## Lassso"
   ]
  },
  {
   "cell_type": "code",
   "execution_count": 11,
   "metadata": {},
   "outputs": [
    {
     "name": "stdout",
     "output_type": "stream",
     "text": [
      "Lasso training set score:  0.6957570208702897\n",
      "Lasso testing set score:  0.617832028474667\n"
     ]
    }
   ],
   "source": [
    "from sklearn.linear_model import Lasso\n",
    "\n",
    "lasso = Lasso().fit(X_train, y_train)\n",
    "train_scores['lasso'] = lasso.score(X_train, y_train)\n",
    "test_scores['lasso'] = lasso.score(X_test, y_test)\n",
    "print('Lasso training set score: ', train_scores['lasso'])\n",
    "print('Lasso testing set score: ', test_scores['lasso'])"
   ]
  },
  {
   "cell_type": "markdown",
   "metadata": {},
   "source": [
    "## Decision Trees"
   ]
  },
  {
   "cell_type": "code",
   "execution_count": 12,
   "metadata": {},
   "outputs": [
    {
     "name": "stdout",
     "output_type": "stream",
     "text": [
      "Decision Tree of depth  3  training set score:  0.2215379388182801\n",
      "Decision Tree of depth  3  testing set score:  0.21474986420862482\n",
      "Decision Tree of depth  4  training set score:  0.2699310581356297\n",
      "Decision Tree of depth  4  testing set score:  0.23055917986445873\n",
      "Decision Tree of depth  5  training set score:  0.3266258665877735\n",
      "Decision Tree of depth  5  testing set score:  0.26897735083994967\n",
      "Decision Tree of depth  6  training set score:  0.3878539515480266\n",
      "Decision Tree of depth  6  testing set score:  0.29146648914624473\n",
      "Decision Tree of depth  7  training set score:  0.46061607583718045\n",
      "Decision Tree of depth  7  testing set score:  0.30245679319809904\n"
     ]
    }
   ],
   "source": [
    "from sklearn.tree import DecisionTreeRegressor\n",
    "\n",
    "for n in range(3,8):\n",
    "    tree = DecisionTreeRegressor(max_depth=n).fit(X_train, y_train)\n",
    "    train_scores['tree' + str(n)] = tree.score(X_train, y_train)\n",
    "    test_scores['tree' + str(n)] = tree.score(X_test, y_test)\n",
    "    print('Decision Tree of depth ', n, ' training set score: ', train_scores['tree' + str(n)])\n",
    "    print('Decision Tree of depth ', n, ' testing set score: ', test_scores['tree' + str(n)])"
   ]
  },
  {
   "cell_type": "markdown",
   "metadata": {},
   "source": [
    "## Random Forest"
   ]
  },
  {
   "cell_type": "code",
   "execution_count": 13,
   "metadata": {},
   "outputs": [
    {
     "name": "stdout",
     "output_type": "stream",
     "text": [
      "Random Forest with  2  estimators training set score:  0.6462857142857142\n",
      "Random Forest with  2  estimators testing set score:  0.06566666666666666\n",
      "Random Forest with  3  estimators training set score:  0.7921428571428571\n",
      "Random Forest with  3  estimators testing set score:  0.07\n",
      "Random Forest with  4  estimators training set score:  0.8928571428571429\n",
      "Random Forest with  4  estimators testing set score:  0.074\n",
      "Random Forest with  5  estimators training set score:  0.9457142857142857\n",
      "Random Forest with  5  estimators testing set score:  0.08566666666666667\n",
      "Random Forest with  6  estimators training set score:  0.972\n",
      "Random Forest with  6  estimators testing set score:  0.09166666666666666\n",
      "Random Forest with  7  estimators training set score:  0.9864285714285714\n",
      "Random Forest with  7  estimators testing set score:  0.09966666666666667\n"
     ]
    }
   ],
   "source": [
    "from sklearn.ensemble import RandomForestClassifier\n",
    "\n",
    "for n in range(2,8):\n",
    "    forest = RandomForestClassifier(n_estimators=n, random_state=2).fit(X_train, y_train)\n",
    "    train_scores['forest' + str(n)] = forest.score(X_train, y_train)\n",
    "    test_scores['forest' + str(n)] = forest.score(X_test, y_test)\n",
    "    print('Random Forest with ', n, ' estimators training set score: ', train_scores['forest' + str(n)])\n",
    "    print('Random Forest with ', n, ' estimators testing set score: ', test_scores['forest' + str(n)])"
   ]
  },
  {
   "cell_type": "markdown",
   "metadata": {},
   "source": [
    "## Analysis"
   ]
  },
  {
   "cell_type": "markdown",
   "metadata": {},
   "source": [
    "Here is a histogram with all scores for training and testing."
   ]
  },
  {
   "cell_type": "code",
   "execution_count": 14,
   "metadata": {},
   "outputs": [
    {
     "data": {
      "image/png": "[encoded data removed]",
      "text/plain": [
       "<Figure size 432x288 with 1 Axes>"
      ]
     },
     "metadata": {
      "needs_background": "light"
     },
     "output_type": "display_data"
    }
   ],
   "source": [
    "x = [1,2,3,4,5]\n",
    "tr_scores = []\n",
    "te_scores = []\n",
    "for n in ['linear','ridge','lasso','tree5','forest3']:\n",
    "    tr_scores.append(train_scores[n])\n",
    "    te_scores.append(test_scores[n])\n",
    "\n",
    "ax = plt.subplot(111)\n",
    "ax.bar([n-0.1 for n in x], tr_scores,width=0.3,color='r',align='center')\n",
    "ax.bar([n+0.1 for n in x], te_scores,width=0.3,color='g',align='center')\n",
    "ax.set_xticklabels(['', 'Linear', 'Ridge', 'Lasso', 'Tree', 'Forest'])\n",
    "plt.grid(b=True, which='major', color='0.65', linestyle='--')\n",
    "plt.show()"
   ]
  },
  {
   "cell_type": "code",
   "execution_count": null,
   "metadata": {},
   "outputs": [],
   "source": []
  }
 ],
 "metadata": {
  "kernelspec": {
   "display_name": "Python 3",
   "language": "python",
   "name": "python3"
  },
  "language_info": {
   "codemirror_mode": {
    "name": "ipython",
    "version": 3
   },
   "file_extension": ".py",
   "mimetype": "text/x-python",
   "name": "python",
   "nbconvert_exporter": "python",
   "pygments_lexer": "ipython3",
   "version": "3.5.6"
  }
 },
 "nbformat": 4,
 "nbformat_minor": 2
}
